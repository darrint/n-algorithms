{
 "cells": [
  {
   "cell_type": "markdown",
   "metadata": {},
   "source": [
    "# Shuffle a List\n",
    "\n",
    "A simple algorithm that wasn't obvious to me, until an AI showed it to me. :facepalm:"
   ]
  },
  {
   "cell_type": "markdown",
   "metadata": {},
   "source": [
    "Below is a naive shuffle algorithm. It randomly suffles the elements of a Python list. It's a bad implementation.\n",
    "\n",
    "As an exercise, look it over and make some educated guesses as to why this won't work well."
   ]
  },
  {
   "cell_type": "code",
   "execution_count": null,
   "metadata": {},
   "outputs": [],
   "source": [
    "import random\n",
    "\n",
    "def bad_shuffle(arr):\n",
    "\n",
    "    # decide ahead of time how many times to swap elements\n",
    "    # Is this enough swaps to really really shuffle the list?\n",
    "    count = int(len(arr))\n",
    "    # LATER, ADJUST THIS CONSTANT\n",
    "    count = int(1.0 * count)\n",
    "    \n",
    "    for _ in range(1, count):\n",
    "        # pick a list index at rantom\n",
    "        i = random.randint(0, len(arr) - 1)\n",
    "        # pick another index at random\n",
    "        j = random.randint(0, len(arr) - 1)\n",
    "        # swap the contents at the two indexes in a fancy way\n",
    "        arr[i], arr[j] = arr[j], arr[i]\n",
    "    return arr\n"
   ]
  },
  {
   "cell_type": "markdown",
   "metadata": {},
   "source": [
    "## Exercise:\n",
    "\n",
    "Edit this box and record your thoughts here.\n",
    "\n",
    "**IMPORTANT:** It's fine to get these wrong. Guess!\n",
    "\n",
    "What exactly do you think will go wrong when we use this algorithm?\n",
    " \n",
    "Why is that?"
   ]
  },
  {
   "cell_type": "markdown",
   "metadata": {},
   "source": [
    "## Spoilers\n",
    "\n",
    "Here are some correct answers. This naive shuffle algorithm has several weaknesses:\n",
    "\n",
    "1. **Non-uniform distribution:** Since the algorithm chooses two random indices i and j for each iteration and simply swaps their values, there's a higher chance that some elements will remain in their original positions, or the resulting distribution will be non-uniform. A good shuffle algorithm should uniformly distribute the elements across all positions.\n",
    "\n",
    "2. **Limited number of swaps:** The algorithm only performs a number of swaps equal to the length of the array. This may not be enough to fully shuffle the array. The Knuth shuffle, for example, performs a number of swaps equal to the length of the array minus one but iterates from the end to the beginning, ensuring a more thorough shuffle.\n",
    "\n",
    "3. **Inefficient:** In this algorithm, the number of iterations is directly proportional to the length of the array. Although this might seem efficient, the uniformity of the shuffle is not guaranteed, and increasing the number of iterations may not necessarily result in a more uniform distribution.\n",
    "\n",
    "To overcome these weaknesses, we can use the Knuth shuffle (Fisher-Yates shuffle) algorithm, which provides a uniform distribution and is more efficient.\n",
    "\n",
    "But before we do that, let's try to *visualize* this shuffle and maybe we can see with our eyes what is wrong."
   ]
  },
  {
   "cell_type": "markdown",
   "metadata": {},
   "source": [
    "Run this single shuffle visualizer a bunch of times. Can you see any of these weaknesses in the output?"
   ]
  },
  {
   "cell_type": "code",
   "execution_count": null,
   "metadata": {},
   "outputs": [],
   "source": [
    "%matplotlib inline\n",
    "import matplotlib.pyplot as plt\n",
    "\n",
    "def plot_shuffle(arr, shuffle_fn):\n",
    "    shuffled_arr = shuffle_fn(arr.copy())\n",
    "    fig, (ax1, ax2) = plt.subplots(1, 2, figsize=(10, 4))\n",
    "    \n",
    "    ax1.bar(range(len(arr)), arr, color='b')\n",
    "    ax1.set_title(\"Original Array\")\n",
    "    ax1.set_xlabel(\"Index\")\n",
    "    ax1.set_ylabel(\"Value\")\n",
    "    \n",
    "    ax2.bar(range(len(shuffled_arr)), shuffled_arr, color='r')\n",
    "    ax2.set_title(\"Shuffled Array\")\n",
    "    ax2.set_xlabel(\"Index\")\n",
    "    ax2.set_ylabel(\"Value\")\n",
    "    \n",
    "    plt.show()\n",
    "\n",
    "arr = list(range(1, 50))\n",
    "plot_shuffle(arr, bad_shuffle)\n"
   ]
  },
  {
   "cell_type": "markdown",
   "metadata": {},
   "source": [
    "When I look at this output with my own eyes, most of the shuffled arrays look a lot like the original arrays.\n",
    "\n",
    "It looks like they are only parially shuffled.\n",
    "\n",
    "I can sort of detect bias visually from this graph. However, this is not a clear indicator of bad performance."
   ]
  },
  {
   "cell_type": "markdown",
   "metadata": {},
   "source": [
    "## Exercise\n",
    "\n",
    "Go back to the `bad_shuffle` algorithm and modify it to make more swaps. Try multiplying the `count` variable by 2 or more to see if you can get better looking results.\n",
    "\n",
    "Try changing the `list(range(...))` expression to make a longer array. Can you see the bias with fewer swaps?\n",
    "\n",
    "Mutliplying by a really large number obviously helps. Why is this not a good solution? (It's not a trick question.)\n",
    "\n",
    "About how many swaps are needed before the bias isn't detectable?"
   ]
  },
  {
   "cell_type": "markdown",
   "metadata": {},
   "source": [
    "## A Better Visualization\n",
    "\n",
    "Below we have a better visualization which produces a heatmap.\n",
    "\n",
    "It runs the shuffle many times.\n",
    "\n",
    "There is a stacked bar for each index  of the array. Vertically, boxes are colored to show how often a particular number appeared at that index.\n",
    "\n",
    "Yellow is bad in this visualization, and blue to blue-green is good. Yellow indicates that the same value appeared at an index at least twice as often as we would have expected.\n",
    "\n",
    "**IMPORTANT:** Reset the `bad_shuffle` function so the count variable is equal to the length of the array."
   ]
  },
  {
   "cell_type": "code",
   "execution_count": null,
   "metadata": {},
   "outputs": [],
   "source": [
    "import random\n",
    "import numpy as np\n",
    "import matplotlib.pyplot as plt\n",
    "from matplotlib import cm\n",
    "\n",
    "def shuffle_counts(arr, num_shuffles, shuffle_fn):\n",
    "    counts = np.zeros((len(arr), len(arr)))\n",
    "\n",
    "    for _ in range(num_shuffles):\n",
    "        shuffled_arr = shuffle_fn(arr.copy())\n",
    "        for i, value in enumerate(shuffled_arr):\n",
    "            counts[i][value-1] += 1\n",
    "\n",
    "    return counts\n",
    "\n",
    "def plot_colored_histogram(arr, num_shuffles, shuffle_fn):\n",
    "    counts = shuffle_counts(arr, num_shuffles, shuffle_fn)\n",
    "    expected = num_shuffles / len(arr)\n",
    "    vmin = expected / 2\n",
    "    vmax = expected * 2\n",
    "    \n",
    "\n",
    "    fig, ax = plt.subplots(figsize=(10, 6))\n",
    "\n",
    "    im=ax.pcolormesh(counts, vmin = vmin, vmax = vmax)\n",
    "    ax.set_title(\"Colored Histogram\")\n",
    "    ax.set_xlabel(\"Index\")\n",
    "    ax.set_ylabel(\"Values Found\")\n",
    "\n",
    "    fig.colorbar(im, ax=ax)\n",
    "    \n",
    "    plt.show()\n",
    "\n",
    "arr = list(range(1, 26))\n",
    "num_shuffles = 10000\n",
    "plot_colored_histogram(arr, num_shuffles, bad_shuffle)\n",
    "\n"
   ]
  },
  {
   "cell_type": "markdown",
   "metadata": {},
   "source": [
    "## A Curious Diagonal Line\n",
    "\n",
    "If things are going well, at this point we have a bright diagonal line on the color map.\n",
    "\n",
    "This is telling us that at index one, the first element in the original array appears here more often than elsewhere. At index two, the second element of the original array appears here more often than elsewhere.\n",
    "\n",
    "It showing us clearly, the problem that some elements never get randomly selected for swapping."
   ]
  },
  {
   "cell_type": "markdown",
   "metadata": {},
   "source": [
    "## Exercise\n",
    "\n",
    "1. Adjust the `bad_shuffle` function again to increase the number of swaps. How much do you have to increase the swap count before the bias become undetectable?\n",
    "2. What does a better algorithm need to do to eliminate this bias?"
   ]
  },
  {
   "cell_type": "markdown",
   "metadata": {},
   "source": [
    "## The Correct Answer\n",
    "\n",
    "Below is the Knuth or Fisher-Yates algorithm. Study it a bit and contrast it with the bad algorithm."
   ]
  },
  {
   "cell_type": "code",
   "execution_count": null,
   "metadata": {},
   "outputs": [],
   "source": [
    "import random\n",
    "\n",
    "def knuth_shuffle(arr):\n",
    "    for i in range(len(arr) - 1, 0, -1):\n",
    "        # Pick a random index\n",
    "        j = random.randint(0, i)\n",
    "        # Swap the contents of that random index with this one.\n",
    "        arr[i], arr[j] = arr[j], arr[i]\n",
    "    return arr\n"
   ]
  },
  {
   "cell_type": "markdown",
   "metadata": {},
   "source": [
    "## Exercise\n",
    "\n",
    "1. Assume this algorithm is correct. How fast is it compared to `bad_shuffle`?\n",
    "2. How does it manage to completely eliminate bias? (Hint: why was the old algorithm biased?)"
   ]
  },
  {
   "cell_type": "markdown",
   "metadata": {},
   "source": [
    "## Spoilers\n",
    "\n",
    "1. It is more or less equivalent to `bad_shuffle` when count is equal to the length of the list. However, it manages to be correct in that time.\n",
    "2. Every element is guaranteed to be swapped at least once, which was the flaw in `bad_shuffle`"
   ]
  },
  {
   "cell_type": "markdown",
   "metadata": {},
   "source": [
    "## Visualize the Better Shuffle"
   ]
  },
  {
   "cell_type": "markdown",
   "metadata": {},
   "source": [
    "Let's start with the single shot visualization. Run it many times. Does it look unbiased?"
   ]
  },
  {
   "cell_type": "code",
   "execution_count": null,
   "metadata": {},
   "outputs": [],
   "source": [
    "arr = list(range(1, 26))\n",
    "plot_shuffle(arr, bad_shuffle)\n"
   ]
  },
  {
   "cell_type": "markdown",
   "metadata": {},
   "source": [
    "## A Real Test of a Real Algorithm\n",
    "\n",
    "Now let's try the more thorough test. Can you detect any bias?"
   ]
  },
  {
   "cell_type": "code",
   "execution_count": null,
   "metadata": {},
   "outputs": [],
   "source": [
    "arr = list(range(1, 26))\n",
    "num_shuffles = 10000\n",
    "plot_colored_histogram(arr, num_shuffles, knuth_shuffle)\n"
   ]
  },
  {
   "cell_type": "markdown",
   "metadata": {},
   "source": [
    "## Great Performance\n",
    "\n",
    "This algorithm performs really well, while giving very well distributed shuffles."
   ]
  },
  {
   "cell_type": "markdown",
   "metadata": {},
   "source": [
    "## Exercise\n",
    "\n",
    "Reflect on what you've learned in this box. Enjoy!"
   ]
  }
 ],
 "metadata": {
  "kernelspec": {
   "display_name": "Python 3 (ipykernel)",
   "language": "python",
   "name": "python3"
  },
  "language_info": {
   "codemirror_mode": {
    "name": "ipython",
    "version": 3
   },
   "file_extension": ".py",
   "mimetype": "text/x-python",
   "name": "python",
   "nbconvert_exporter": "python",
   "pygments_lexer": "ipython3",
   "version": "3.10.12"
  }
 },
 "nbformat": 4,
 "nbformat_minor": 4
}
